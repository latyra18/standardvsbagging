{
  "nbformat": 4,
  "nbformat_minor": 0,
  "metadata": {
    "accelerator": "GPU",
    "colab": {
      "name": "latyraj_Bagginglearning.ipynb",
      "provenance": [],
      "collapsed_sections": []
    },
    "kernelspec": {
      "display_name": "Python 3",
      "name": "python3"
    },
    "language_info": {
      "name": "python"
    }
  },
  "cells": [
    {
      "cell_type": "code",
      "metadata": {
        "id": "qEWwYS5SXy_t"
      },
      "source": [
        "#import packages\n",
        "import sys\n",
        "from matplotlib import pyplot\n",
        "from keras.datasets import cifar10\n",
        "from tensorflow.keras.utils import to_categorical\n",
        "from tensorflow.keras.models import Sequential\n",
        "from keras.layers import Conv2D\n",
        "from keras.layers import MaxPooling2D\n",
        "from keras.layers import Dense\n",
        "from keras.layers import Flatten\n",
        "from keras.layers import Dropout\n",
        "from keras.layers import Activation\n",
        "from tensorflow.keras.optimizers import SGD\n",
        "from keras.regularizers import l2"
      ],
      "execution_count": 1,
      "outputs": []
    },
    {
      "cell_type": "code",
      "metadata": {
        "id": "yoCFqVRzYNrn"
      },
      "source": [
        "# load train and test dataset\n",
        "def load_dataset():\n",
        "\t# load dataset\n",
        "\t(x_train, y_train), (x_test, y_test) = cifar10.load_data()\n",
        "\t\n",
        "\ty_train = to_categorical(y_train)\n",
        "\ty_test = to_categorical(y_test)\n",
        "\treturn x_train, y_train, x_test, y_test"
      ],
      "execution_count": 2,
      "outputs": []
    },
    {
      "cell_type": "code",
      "metadata": {
        "id": "7HQQ5U3rYP4o"
      },
      "source": [
        "# Preprocessing and normailzation\n",
        "def normalization(train, test):\n",
        "  # convert from integers to floats\n",
        "  train_norm = train.astype('float32')\n",
        "  test_norm = test.astype('float32')\n",
        "  # normalize to range 0-1\n",
        "  train_norm = train_norm / 255.0\n",
        "  test_norm = test_norm / 255.0\n",
        "  # return normalized images\n",
        "  return train_norm, test_norm"
      ],
      "execution_count": 3,
      "outputs": []
    },
    {
      "cell_type": "code",
      "metadata": {
        "id": "yH6QBxpAYP_x"
      },
      "source": [
        "# define cnn model\n",
        "def define_model():\n",
        "  model = Sequential()\n",
        "  model.add(Conv2D(32, (3, 3), activation='relu', kernel_initializer='he_uniform', padding='same', input_shape=(32, 32, 3)))\n",
        "  model.add(Conv2D(32, (3, 3), activation='relu', kernel_initializer='he_uniform', padding='same'))\n",
        "  model.add(MaxPooling2D((2, 2)))\n",
        "  model.add(Dropout(0.2))\n",
        "  model.add(Conv2D(64, (3, 3), activation='relu', kernel_initializer='he_uniform', padding='same'))\n",
        "  model.add(Conv2D(64, (3, 3), activation='relu', kernel_initializer='he_uniform', padding='same'))\n",
        "  model.add(MaxPooling2D((2, 2)))\n",
        "  model.add(Dropout(0.2))\n",
        "  model.add(Conv2D(128, (3, 3), activation='relu', kernel_initializer='he_uniform', padding='same'))\n",
        "  model.add(Conv2D(128, (3, 3), activation='relu', kernel_initializer='he_uniform', padding='same'))\t\n",
        "  model.add(MaxPooling2D((2, 2)))\n",
        "  model.add(Dropout(0.2))\n",
        "  model.add(Flatten())\n",
        "  model.add(Dense(128, activation='relu', kernel_initializer='he_uniform'))\n",
        "  model.add(Dropout(0.2))\n",
        "  model.add(Dense(10, activation='softmax'))\n",
        "  # compile model\n",
        "  opt = SGD(learning_rate=0.001, momentum=0.9)\n",
        "  model.compile(optimizer=opt, loss='categorical_crossentropy', metrics=['accuracy'])\n",
        "  return model"
      ],
      "execution_count": 4,
      "outputs": []
    },
    {
      "cell_type": "code",
      "metadata": {
        "id": "5WkPUZ7qYQHO",
        "colab": {
          "base_uri": "https://localhost:8080/"
        },
        "outputId": "28dc1684-90c6-420d-e19a-81aa552960eb"
      },
      "source": [
        "# load dataset\n",
        "x_train, y_train, x_test, y_test = load_dataset()\n",
        "# prepare pixel data\n",
        "x_train, x_test = normalization(x_train, x_test)\n",
        "# define model\n",
        "model = define_model()\n",
        "# fit model\n",
        "history = model.fit(x_train, y_train, epochs=100, batch_size=64, validation_data=(x_test, y_test), verbose=0)"
      ],
      "execution_count": 5,
      "outputs": [
        {
          "output_type": "stream",
          "name": "stdout",
          "text": [
            "Downloading data from https://www.cs.toronto.edu/~kriz/cifar-10-python.tar.gz\n",
            "170500096/170498071 [==============================] - 6s 0us/step\n",
            "170508288/170498071 [==============================] - 6s 0us/step\n"
          ]
        }
      ]
    },
    {
      "cell_type": "code",
      "metadata": {
        "colab": {
          "base_uri": "https://localhost:8080/"
        },
        "id": "A1K3ESgHdZg6",
        "outputId": "86c5a050-b92f-4212-dfe4-2d66da2ad5be"
      },
      "source": [
        "_, test_acc = model.evaluate(x_test, y_test, verbose=0)\n",
        "test_acc"
      ],
      "execution_count": 6,
      "outputs": [
        {
          "output_type": "execute_result",
          "data": {
            "text/plain": [
              "0.8256000280380249"
            ]
          },
          "metadata": {},
          "execution_count": 6
        }
      ]
    },
    {
      "cell_type": "code",
      "metadata": {
        "id": "YkgBzw6kd0Jt"
      },
      "source": [
        "def bagging_predictions(members, x_test):\n",
        "\t# make predictions\n",
        "\ty_pred = [model.predict(x_test) for model in members]\n",
        "\ty_pred = array(y_pred)\n",
        "\t# sum across ensemble members\n",
        "\tsummed = numpy.sum(y_pred, axis=0)\n",
        "\t# argmax across classes\n",
        "\tresult = argmax(summed, axis=1)\n",
        "\treturn result"
      ],
      "execution_count": 7,
      "outputs": []
    },
    {
      "cell_type": "code",
      "metadata": {
        "id": "a2h5X053YQNk"
      },
      "source": [
        "# evaluate a specific number of members in an ensemble\n",
        "def evaluate_n_members(members, n_members, x_test, y_test):\n",
        "\t# select a subset of members\n",
        "\tsubset = members[:n_members]\n",
        "\t# make prediction\n",
        "\tyhat = bagging_predictions(subset, x_test)\n",
        "\t# calculate accuracy\n",
        "\treturn accuracy_score(y_test, yhat)"
      ],
      "execution_count": 8,
      "outputs": []
    },
    {
      "cell_type": "code",
      "metadata": {
        "colab": {
          "base_uri": "https://localhost:8080/"
        },
        "id": "dWC7MbtsfRwR",
        "outputId": "df7a7f88-2024-4978-a662-ea1be796407f"
      },
      "source": [
        "from sklearn.utils import resample\n",
        "from sklearn.datasets import make_blobs\n",
        "import time\n",
        "\n",
        "start = time.time()\n",
        "\n",
        "X=x_train\n",
        "y=y_train\n",
        "n_splits = 10\n",
        "scores, members = list(), list()\n",
        "for _ in range(n_splits):\n",
        "\t# select indexes\n",
        "\tix = [i for i in range(len(X))]\n",
        "\ttrain_ix = resample(ix, replace=True, n_samples=4500)\n",
        "\ttest_ix = [x for x in ix if x not in train_ix]\n",
        "\t# select data\n",
        "\ttrainX, trainy = X[train_ix], y[train_ix]\n",
        "\ttestX, testy = X[test_ix], y[test_ix]\n",
        "\t# evaluate model\n",
        "\t#history = model.fit(trainX, trainy, epochs=5, batch_size=64, validation_data=(testX, testy), verbose=0)\n",
        "\tprint('>%.3f' % test_acc)\n",
        "\tscores.append(test_acc)\n",
        "\tmembers.append(model)\n",
        "history = model.fit(trainX, trainy, epochs=100, batch_size=64, validation_data=(testX, testy), verbose=0)\n",
        "print(\"Total time: \", time.time() - start, \"seconds\")"
      ],
      "execution_count": 9,
      "outputs": [
        {
          "output_type": "stream",
          "name": "stdout",
          "text": [
            ">0.826\n",
            ">0.826\n",
            ">0.826\n",
            ">0.826\n",
            ">0.826\n",
            ">0.826\n",
            ">0.826\n",
            ">0.826\n",
            ">0.826\n",
            ">0.826\n",
            "Total time:  303.54602456092834 seconds\n"
          ]
        }
      ]
    },
    {
      "cell_type": "code",
      "metadata": {
        "colab": {
          "base_uri": "https://localhost:8080/",
          "height": 366
        },
        "id": "lul9r7kCb7O0",
        "outputId": "82b0a2b9-d9aa-441a-8fd6-0dbd3e1826a8"
      },
      "source": [
        "scores = model.evaluate(testX, testy, verbose=0)\n",
        "print('Test loss:', scores[0])\n",
        "print('Test accuracy:', scores[1])\n",
        "score = model.evaluate(trainX, trainy, verbose=0)\n",
        "print('Training loss:', score[0])\n",
        "print('Training accuracy:', score[1])\n",
        "# plot loss\n",
        "pyplot.subplot(211)\n",
        "pyplot.title('Loss per iteration')\n",
        "pyplot.plot(history.history['loss'], color='blue', label='train')\n",
        "pyplot.plot(history.history['val_loss'], color='orange', label='test')\n",
        "# plot accuracy\n",
        "pyplot.subplot(212)\n",
        "pyplot.title('Classification Accuracy')\n",
        "pyplot.plot(history.history['accuracy'], color='blue', label='train')\n",
        "pyplot.plot(history.history['val_accuracy'], color='orange', label='test')"
      ],
      "execution_count": 10,
      "outputs": [
        {
          "output_type": "stream",
          "name": "stdout",
          "text": [
            "Test loss: 0.15200410783290863\n",
            "Test accuracy: 0.9497221112251282\n",
            "Training loss: 0.0005003992118872702\n",
            "Training accuracy: 1.0\n"
          ]
        },
        {
          "output_type": "execute_result",
          "data": {
            "text/plain": [
              "[<matplotlib.lines.Line2D at 0x7fdbf0084b90>]"
            ]
          },
          "metadata": {},
          "execution_count": 10
        },
        {
          "output_type": "display_data",
          "data": {
            "image/png": "[encoded data removed]",
            "text/plain": [
              "<Figure size 432x288 with 2 Axes>"
            ]
          },
          "metadata": {
            "needs_background": "light"
          }
        }
      ]
    },
    {
      "cell_type": "code",
      "metadata": {
        "colab": {
          "base_uri": "https://localhost:8080/",
          "height": 295
        },
        "id": "slV2DyJVdQMR",
        "outputId": "5ba6fccd-2bf9-4596-a9c7-085a9cd6381b"
      },
      "source": [
        "# plot learning curves \n",
        "from matplotlib import pyplot\n",
        "import matplotlib.pyplot as plt\n",
        "pyplot.plot(history.history['loss'], label='train')\n",
        "plt.ylabel('loss')\n",
        "plt.xlabel('iterations (per hundreds)')\n",
        "plt.title(\"Learning rate =\" + str(.0001))\n",
        "plt.show()"
      ],
      "execution_count": 11,
      "outputs": [
        {
          "output_type": "display_data",
          "data": {
            "image/png": "[encoded data removed]",
            "text/plain": [
              "<Figure size 432x288 with 1 Axes>"
            ]
          },
          "metadata": {
            "needs_background": "light"
          }
        }
      ]
    },
    {
      "cell_type": "code",
      "metadata": {
        "colab": {
          "base_uri": "https://localhost:8080/"
        },
        "id": "NSTByf7Tc6TK",
        "outputId": "bfe71798-0dba-4c13-ef82-c98928139f2f"
      },
      "source": [
        "from sklearn.metrics import classification_report\n",
        "from sklearn.metrics import confusion_matrix\n",
        "import numpy as np\n",
        "\n",
        "y_pred = model.predict(testX)\n",
        "y_pred=np.argmax(y_pred,axis=1)\n",
        "y_test=np.argmax(testy,axis=1)\n",
        "y_pred.shape\n"
      ],
      "execution_count": 12,
      "outputs": [
        {
          "output_type": "execute_result",
          "data": {
            "text/plain": [
              "(45706,)"
            ]
          },
          "metadata": {},
          "execution_count": 12
        }
      ]
    },
    {
      "cell_type": "code",
      "metadata": {
        "colab": {
          "base_uri": "https://localhost:8080/"
        },
        "id": "ssdxLEbv0UH2",
        "outputId": "de350340-ec59-47df-fb39-7a44b116cd20"
      },
      "source": [
        "y_test.shape"
      ],
      "execution_count": 13,
      "outputs": [
        {
          "output_type": "execute_result",
          "data": {
            "text/plain": [
              "(45706,)"
            ]
          },
          "metadata": {},
          "execution_count": 13
        }
      ]
    },
    {
      "cell_type": "code",
      "metadata": {
        "id": "LXcZR88tzsOe"
      },
      "source": [
        "# Calculate confusion matrix\n",
        "conf_matrix = confusion_matrix(y_true=y_test, y_pred=y_pred)"
      ],
      "execution_count": 14,
      "outputs": []
    },
    {
      "cell_type": "code",
      "metadata": {
        "colab": {
          "base_uri": "https://localhost:8080/"
        },
        "id": "lAkumoT50bIT",
        "outputId": "9c890002-b7be-4b2d-9792-375d28e05781"
      },
      "source": [
        "print(classification_report(y_test, y_pred))"
      ],
      "execution_count": 15,
      "outputs": [
        {
          "output_type": "stream",
          "name": "stdout",
          "text": [
            "              precision    recall  f1-score   support\n",
            "\n",
            "           0       0.97      0.96      0.97      4576\n",
            "           1       0.99      0.99      0.99      4578\n",
            "           2       0.97      0.90      0.94      4597\n",
            "           3       0.90      0.89      0.90      4550\n",
            "           4       0.91      0.97      0.94      4534\n",
            "           5       0.95      0.87      0.91      4569\n",
            "           6       0.91      0.99      0.94      4553\n",
            "           7       0.99      0.95      0.97      4610\n",
            "           8       0.95      1.00      0.97      4573\n",
            "           9       0.98      0.98      0.98      4566\n",
            "\n",
            "    accuracy                           0.95     45706\n",
            "   macro avg       0.95      0.95      0.95     45706\n",
            "weighted avg       0.95      0.95      0.95     45706\n",
            "\n"
          ]
        }
      ]
    }
  ]
}