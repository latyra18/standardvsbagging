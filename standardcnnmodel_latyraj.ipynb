{
  "nbformat": 4,
  "nbformat_minor": 0,
  "metadata": {
    "kernelspec": {
      "display_name": "Python 3",
      "language": "python",
      "name": "python3"
    },
    "language_info": {
      "codemirror_mode": {
        "name": "ipython",
        "version": 3
      },
      "file_extension": ".py",
      "mimetype": "text/x-python",
      "name": "python",
      "nbconvert_exporter": "python",
      "pygments_lexer": "ipython3",
      "version": "3.7.4"
    },
    "colab": {
      "name": "standardcnnmodel_latyraj.ipynb",
      "provenance": [],
      "collapsed_sections": []
    },
    "accelerator": "GPU"
  },
  "cells": [
    {
      "cell_type": "code",
      "metadata": {
        "id": "uFxu1ApZhdiY"
      },
      "source": [
        "#import packages\n",
        "import sys\n",
        "from matplotlib import pyplot\n",
        "from keras.datasets import cifar10\n",
        "from tensorflow.keras.utils import to_categorical\n",
        "from tensorflow.keras.models import Sequential\n",
        "from keras.layers import Conv2D\n",
        "from keras.layers import MaxPooling2D\n",
        "from keras.layers import Dense\n",
        "from keras.layers import Flatten\n",
        "from keras.layers import Dropout\n",
        "from keras.layers import Activation\n",
        "from tensorflow.keras.optimizers import SGD\n",
        "from keras.regularizers import l2"
      ],
      "execution_count": 24,
      "outputs": []
    },
    {
      "cell_type": "code",
      "metadata": {
        "id": "oHwbK_kshdib"
      },
      "source": [
        "# load train and test dataset\n",
        "def load_dataset():\n",
        "\t# load dataset\n",
        "\t(x_train, y_train), (x_test, y_test) = cifar10.load_data()\n",
        "\t\n",
        "\ty_train = to_categorical(y_train)\n",
        "\ty_test = to_categorical(y_test)\n",
        "\treturn x_train, y_train, x_test, y_test"
      ],
      "execution_count": 25,
      "outputs": []
    },
    {
      "cell_type": "code",
      "metadata": {
        "id": "PW5555Ufxexg"
      },
      "source": [
        "# Preprocessing and normailzation\n",
        "def normalization(train, test):\n",
        "    # convert from integers to floats\n",
        "    train_norm = train.astype('float32')\n",
        "    test_norm = test.astype('float32')\n",
        "    # normalize to range 0-1\n",
        "    train_norm = train_norm / 255.0\n",
        "    test_norm = test_norm / 255.0\n",
        "    # return normalized images\n",
        "    return train_norm, test_norm"
      ],
      "execution_count": 26,
      "outputs": []
    },
    {
      "cell_type": "code",
      "metadata": {
        "id": "duO5aAr8hdic"
      },
      "source": [
        "# The CNN model is defined \n",
        "def define_model():\n",
        "  model = Sequential()\n",
        "  model.add(Conv2D(32, (3, 3), activation='relu', kernel_initializer='he_uniform', padding='same', input_shape=(32, 32, 3)))\n",
        "  model.add(Conv2D(32, (3, 3), activation='relu', kernel_initializer='he_uniform', padding='same'))\n",
        "  model.add(MaxPooling2D((2, 2)))\n",
        "  model.add(Dropout(0.2))\n",
        "  model.add(Conv2D(64, (3, 3), activation='relu', kernel_initializer='he_uniform', padding='same'))\n",
        "  model.add(Conv2D(64, (3, 3), activation='relu', kernel_initializer='he_uniform', padding='same'))\n",
        "  model.add(MaxPooling2D((2, 2)))\n",
        "  model.add(Dropout(0.2))\n",
        "  model.add(Conv2D(128, (3, 3), activation='relu', kernel_initializer='he_uniform', padding='same'))\n",
        "  model.add(Conv2D(128, (3, 3), activation='relu', kernel_initializer='he_uniform', padding='same'))\t\n",
        "  model.add(MaxPooling2D((2, 2)))\n",
        "  model.add(Dropout(0.2))\n",
        "  model.add(Flatten())\n",
        "  model.add(Dense(128, activation='relu', kernel_initializer='he_uniform'))\n",
        "  model.add(Dropout(0.2))\n",
        "  model.add(Dense(10, activation='softmax'))\n",
        " \n",
        "  opt = SGD(learning_rate=0.001, momentum=0.9)\n",
        "  model.compile(optimizer=opt, loss='categorical_crossentropy', metrics=['accuracy'])\n",
        "  return model\n"
      ],
      "execution_count": 27,
      "outputs": []
    },
    {
      "cell_type": "code",
      "metadata": {
        "id": "auOdTQxzpDT_",
        "colab": {
          "base_uri": "https://localhost:8080/"
        },
        "outputId": "c9c4a3a3-e8ac-41af-cf84-9e2783f57a5d"
      },
      "source": [
        "import time\n",
        "\n",
        "start = time.time()\n",
        "# load dataset\n",
        "x_train, y_train, x_test, y_test = load_dataset()\n",
        "# prepare pixel data\n",
        "x_train, x_test = normalization(x_train, x_test)\n",
        "# define model\n",
        "model = define_model()\n",
        "# fit model\n",
        "history = model.fit(x_train, y_train, epochs=100, batch_size=64, validation_data=(x_test, y_test), verbose=0)\n",
        "print(\"Total time: \", time.time() - start, \"seconds\")"
      ],
      "execution_count": 28,
      "outputs": [
        {
          "output_type": "stream",
          "name": "stdout",
          "text": [
            "Total time:  471.8665819168091 seconds\n"
          ]
        }
      ]
    },
    {
      "cell_type": "code",
      "metadata": {
        "colab": {
          "base_uri": "https://localhost:8080/",
          "height": 248
        },
        "id": "XdprlcDmhdic",
        "outputId": "0ca44a6c-20b3-4258-eb2f-020ae25f1b80"
      },
      "source": [
        "# Testing loss\n",
        "scores = model.evaluate(x_test, y_test, verbose=0)\n",
        "print('Test loss:', scores[0])\n",
        "print('Test accuracy:', scores[1])\n",
        "print_loss=True\n",
        "# Training accuracy\n",
        "score = model.evaluate(x_train, y_train, verbose=0)\n",
        "print('Training loss:', score[0])\n",
        "print('Training accuracy:', score[1])\n",
        "print_loss=True\n",
        "pyplot.subplot(211)\n",
        "pyplot.title('Loss per iteration')\n",
        "pyplot.plot(history.history['loss'], color='red', label='train')\n",
        "pyplot.plot(history.history['val_loss'], color='green', label='test')\n"
      ],
      "execution_count": 29,
      "outputs": [
        {
          "output_type": "stream",
          "name": "stdout",
          "text": [
            "Test loss: 0.5671069622039795\n",
            "Test accuracy: 0.8317999839782715\n",
            "Training loss: 0.05763578787446022\n",
            "Training accuracy: 0.9894199967384338\n"
          ]
        },
        {
          "output_type": "execute_result",
          "data": {
            "text/plain": [
              "[<matplotlib.lines.Line2D at 0x7f96b0c868d0>]"
            ]
          },
          "metadata": {},
          "execution_count": 29
        },
        {
          "output_type": "display_data",
          "data": {
            "image/png": "[encoded data removed]",
            "text/plain": [
              "<Figure size 432x288 with 1 Axes>"
            ]
          },
          "metadata": {
            "needs_background": "light"
          }
        }
      ]
    },
    {
      "cell_type": "code",
      "metadata": {
        "colab": {
          "base_uri": "https://localhost:8080/",
          "height": 295
        },
        "id": "QGnRABcbhdid",
        "outputId": "10861dff-b7bd-4dd0-9a3f-bbcac17d7851"
      },
      "source": [
        "# plot learning curves \n",
        "from matplotlib import pyplot\n",
        "import matplotlib.pyplot as plt\n",
        "pyplot.plot(history.history['loss'], label='train')\n",
        "plt.ylabel('loss')\n",
        "plt.xlabel('iterations (per hundreds)')\n",
        "plt.title(\"Learning rate =\" + str(.0001))\n",
        "plt.show()"
      ],
      "execution_count": 30,
      "outputs": [
        {
          "output_type": "display_data",
          "data": {
            "image/png": "[encoded data removed]",
            "text/plain": [
              "<Figure size 432x288 with 1 Axes>"
            ]
          },
          "metadata": {
            "needs_background": "light"
          }
        }
      ]
    },
    {
      "cell_type": "code",
      "metadata": {
        "colab": {
          "base_uri": "https://localhost:8080/"
        },
        "id": "I02JGT-qhdif",
        "outputId": "35a4d47c-e541-48b1-f106-656ad47f4193"
      },
      "source": [
        "from sklearn.metrics import classification_report\n",
        "from sklearn.metrics import confusion_matrix\n",
        "import numpy as np\n",
        "from sklearn import metrics\n",
        "from keras.models import Sequential\n",
        "from tensorflow.keras.applications.resnet50 import ResNet50\n",
        "y_pred = model.predict(x_test)\n",
        "y_pred=np.argmax(y_pred,axis=1)\n",
        "y_test=np.argmax(y_test,axis=1)\n",
        "#print(y_test)\n",
        "#print(y_pred)\n",
        "\n",
        "y_test.shape\n",
        "\n",
        "\n",
        "\n",
        "\n",
        "#\n",
        "# Calculate the confusion matrix\n",
        "\n",
        "#conf_matrix = confusion_matrix(y_true=y_test, y_pred=y_pred)\n",
        "#print(classification_report(y_test, y_pred))"
      ],
      "execution_count": 31,
      "outputs": [
        {
          "output_type": "execute_result",
          "data": {
            "text/plain": [
              "(10000,)"
            ]
          },
          "metadata": {},
          "execution_count": 31
        }
      ]
    },
    {
      "cell_type": "code",
      "metadata": {
        "id": "uyXvmKm_sU3o"
      },
      "source": [
        "conf_matrix = confusion_matrix(y_true=y_test, y_pred=y_pred)"
      ],
      "execution_count": 32,
      "outputs": []
    },
    {
      "cell_type": "code",
      "metadata": {
        "colab": {
          "base_uri": "https://localhost:8080/"
        },
        "id": "QAC_IsJnsYXg",
        "outputId": "30947db1-91a0-4003-9e84-f4c29615f3d9"
      },
      "source": [
        "print(classification_report(y_test, y_pred))"
      ],
      "execution_count": 33,
      "outputs": [
        {
          "output_type": "stream",
          "name": "stdout",
          "text": [
            "              precision    recall  f1-score   support\n",
            "\n",
            "           0       0.85      0.86      0.85      1000\n",
            "           1       0.91      0.92      0.92      1000\n",
            "           2       0.80      0.72      0.76      1000\n",
            "           3       0.70      0.64      0.67      1000\n",
            "           4       0.79      0.84      0.81      1000\n",
            "           5       0.71      0.80      0.75      1000\n",
            "           6       0.86      0.90      0.88      1000\n",
            "           7       0.91      0.84      0.87      1000\n",
            "           8       0.90      0.91      0.91      1000\n",
            "           9       0.88      0.90      0.89      1000\n",
            "\n",
            "    accuracy                           0.83     10000\n",
            "   macro avg       0.83      0.83      0.83     10000\n",
            "weighted avg       0.83      0.83      0.83     10000\n",
            "\n"
          ]
        }
      ]
    },
    {
      "cell_type": "code",
      "metadata": {
        "colab": {
          "base_uri": "https://localhost:8080/"
        },
        "id": "zfiDCjo-sKr-",
        "outputId": "7c926521-1340-4aac-ae78-6bf726516dee"
      },
      "source": [
        "y_pred.shape"
      ],
      "execution_count": 34,
      "outputs": [
        {
          "output_type": "execute_result",
          "data": {
            "text/plain": [
              "(10000,)"
            ]
          },
          "metadata": {},
          "execution_count": 34
        }
      ]
    }
  ]
}